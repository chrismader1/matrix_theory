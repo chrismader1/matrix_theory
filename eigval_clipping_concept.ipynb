{
 "cells": [
  {
   "cell_type": "code",
   "execution_count": 12,
   "id": "f26c322b-61f6-4ab3-9ba1-e916c603cab0",
   "metadata": {},
   "outputs": [],
   "source": [
    "import numpy as np"
   ]
  },
  {
   "cell_type": "code",
   "execution_count": 13,
   "id": "934ba198-c3f6-4dc8-b32b-ca15c9a6955f",
   "metadata": {},
   "outputs": [],
   "source": [
    "C = np.array([\n",
    "    [1.0, 0.8, 0.6],\n",
    "    [0.8, 1.0, 0.4],\n",
    "    [0.6, 0.4, 1.0]])"
   ]
  },
  {
   "cell_type": "code",
   "execution_count": 14,
   "id": "6734bd93-2467-453a-8b0d-5f0589dcae7e",
   "metadata": {},
   "outputs": [],
   "source": [
    "# diagonalise\n",
    "eigvals, P = np.linalg.eigh(C)\n",
    "eigvals, P = eigvals[::-1], P[:, ::-1]\n",
    "D = np.diag(eigvals)"
   ]
  },
  {
   "cell_type": "code",
   "execution_count": 15,
   "id": "68687e43-5d8e-4e43-9131-ee2a440e9170",
   "metadata": {},
   "outputs": [
    {
     "data": {
      "text/plain": [
       "array([[-0.63, -0.15, -0.76],\n",
       "       [-0.58, -0.54,  0.6 ],\n",
       "       [-0.51,  0.82,  0.26]])"
      ]
     },
     "execution_count": 15,
     "metadata": {},
     "output_type": "execute_result"
    }
   ],
   "source": [
    "P.round(2)"
   ]
  },
  {
   "cell_type": "code",
   "execution_count": 16,
   "id": "8b3138bb-c82a-4d75-844b-e7905bc39aff",
   "metadata": {},
   "outputs": [
    {
     "data": {
      "text/plain": [
       "array([[-0.63, -0.58, -0.51],\n",
       "       [-0.15, -0.54,  0.82],\n",
       "       [-0.76,  0.6 ,  0.26]])"
      ]
     },
     "execution_count": 16,
     "metadata": {},
     "output_type": "execute_result"
    }
   ],
   "source": [
    "P.T.round(2)"
   ]
  },
  {
   "cell_type": "code",
   "execution_count": 17,
   "id": "3961e917-2ca6-4cf5-8e1c-4953cebc4f91",
   "metadata": {},
   "outputs": [
    {
     "data": {
      "text/plain": [
       "array([[2.21, 0.  , 0.  ],\n",
       "       [0.  , 0.62, 0.  ],\n",
       "       [0.  , 0.  , 0.16]])"
      ]
     },
     "execution_count": 17,
     "metadata": {},
     "output_type": "execute_result"
    }
   ],
   "source": [
    "D.round(2)"
   ]
  },
  {
   "cell_type": "code",
   "execution_count": 18,
   "id": "ccd3fa17-fcbd-4293-8fbd-d351f0320021",
   "metadata": {},
   "outputs": [
    {
     "data": {
      "text/plain": [
       "array([[1. , 0.8, 0.6],\n",
       "       [0.8, 1. , 0.4],\n",
       "       [0.6, 0.4, 1. ]])"
      ]
     },
     "execution_count": 18,
     "metadata": {},
     "output_type": "execute_result"
    }
   ],
   "source": [
    "C = P @ D @ P.T\n",
    "C"
   ]
  },
  {
   "cell_type": "code",
   "execution_count": 19,
   "id": "5cdbd151-fd05-4a51-8b06-44c3d58eb4ec",
   "metadata": {},
   "outputs": [
    {
     "data": {
      "text/plain": [
       "array([[1. , 0.8, 0.6],\n",
       "       [0.8, 1. , 0.4],\n",
       "       [0.6, 0.4, 1. ]])"
      ]
     },
     "execution_count": 19,
     "metadata": {},
     "output_type": "execute_result"
    }
   ],
   "source": [
    "# reconstruct C from eigvals x outer product of eigenvectors  \n",
    "\n",
    "u1 = P[:,0][:, np.newaxis]\n",
    "u2 = P[:,1][:, np.newaxis]\n",
    "u3 = P[:,2][:, np.newaxis]\n",
    "\n",
    "B =eigvals[0]*u1@u1.T \\\n",
    "+ eigvals[1]*u2@u2.T \\\n",
    "+ eigvals[2]*u3@u3.T\n",
    "B"
   ]
  },
  {
   "cell_type": "code",
   "execution_count": 20,
   "id": "00e9b6c0-b99c-480d-8a33-e76ebfcc5276",
   "metadata": {},
   "outputs": [
    {
     "name": "stdout",
     "output_type": "stream",
     "text": [
      "q= 0.15\n",
      "eigval1= 2.2149\n",
      "cutoff= 1.9246\n"
     ]
    }
   ],
   "source": [
    "# compute cutoff point\n",
    "\n",
    "N = 3\n",
    "T = 20\n",
    "Q = T/N\n",
    "q = 1/Q\n",
    "print('q=', q)\n",
    "\n",
    "cutoff = (1+np.sqrt(q))**2\n",
    "\n",
    "print('eigval1=', eigvals[0].round(4))\n",
    "print('cutoff=', cutoff.round(4))"
   ]
  },
  {
   "cell_type": "code",
   "execution_count": 21,
   "id": "8e7dba69-a6c2-42e9-9b27-bdd91c076d48",
   "metadata": {},
   "outputs": [
    {
     "name": "stdout",
     "output_type": "stream",
     "text": [
      "k= 0.3925\n"
     ]
    }
   ],
   "source": [
    "def clip_eigvals(eigvals, cutoff):\n",
    "    clipped_eigvals = eigvals.copy()\n",
    "    mask = eigvals < cutoff  # boolean mask for eigvals below cutoff\n",
    "    n_below_cutoff = np.sum(mask)  # count number of eigvals below cutoff\n",
    "    k = np.sum(eigvals[mask]) / np.sum(mask) # compute k so that tr(C)=tr(C')=N\n",
    "    print('k=', np.round(k, 4))\n",
    "    clipped_eigvals[mask] = k  # replace eigvals below cutoff with k\n",
    "    return clipped_eigvals\n",
    "eigvals_clipped = clip_eigvals(eigvals, cutoff)"
   ]
  },
  {
   "cell_type": "code",
   "execution_count": 22,
   "id": "a42ded25-1f54-448a-8213-d349308ed715",
   "metadata": {},
   "outputs": [
    {
     "data": {
      "text/plain": [
       "array([[2.2149, 0.    , 0.    ],\n",
       "       [0.    , 0.3925, 0.    ],\n",
       "       [0.    , 0.    , 0.3925]])"
      ]
     },
     "execution_count": 22,
     "metadata": {},
     "output_type": "execute_result"
    }
   ],
   "source": [
    "D_clean = np.diag(eigvals_clipped)\n",
    "D_clean.round(4)"
   ]
  }
 ],
 "metadata": {
  "kernelspec": {
   "display_name": "Python 3 (ipykernel)",
   "language": "python",
   "name": "python3"
  },
  "language_info": {
   "codemirror_mode": {
    "name": "ipython",
    "version": 3
   },
   "file_extension": ".py",
   "mimetype": "text/x-python",
   "name": "python",
   "nbconvert_exporter": "python",
   "pygments_lexer": "ipython3",
   "version": "3.9.13"
  }
 },
 "nbformat": 4,
 "nbformat_minor": 5
}
